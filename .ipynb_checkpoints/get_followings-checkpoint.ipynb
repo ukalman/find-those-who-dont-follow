{
 "cells": [
  {
   "cell_type": "code",
   "execution_count": 4,
   "metadata": {},
   "outputs": [
    {
     "name": "stdout",
     "output_type": "stream",
     "text": [
      "Length:  665\n"
     ]
    }
   ],
   "source": [
    "from selenium import webdriver\n",
    "import time\n",
    "import loginInfo\n",
    "\n",
    "browser = webdriver.Chrome()\n",
    "account_username = input()\n",
    "browser.get(\"https://www.instagram.com/\",account_username,\"/\")\n",
    "\n",
    "\n",
    "time.sleep(3)\n",
    "\n",
    "girisYap = browser.find_element_by_xpath(\"//*[@id='react-root']/section/main/div/div/article/div/div/div/a\")\n",
    "\n",
    "girisYap.click()\n",
    "\n",
    "time.sleep(3)\n",
    "\n",
    "username = browser.find_element_by_name(\"username\")\n",
    "password = browser.find_element_by_name(\"password\")\n",
    "\n",
    "username.send_keys(loginInfo.username)\n",
    "password.send_keys(loginInfo.password)\n",
    "time.sleep(1)\n",
    "\n",
    "\n",
    "loginButton = browser.find_element_by_xpath(\"//*[@id='loginForm']/div/div[3]/button\")\n",
    "\n",
    "loginButton.click()\n",
    "time.sleep(6)\n",
    "\n",
    "# If Instagram asks remember the credentials, uncomment below 3 lines\n",
    "\n",
    "# simdidegil = browser.find_element_by_xpath(\"//button[@class='sqdOP yWX7d    y3zKF     ']\")\n",
    "# simdidegil.click()\n",
    "# time.sleep(7)\n",
    "\n",
    "buttons = browser.find_elements_by_css_selector(\".Y8-fY \")\n",
    "followingsButton = buttons[2]\n",
    "\n",
    "followingsButton.click()\n",
    "time.sleep(5)\n",
    "\n",
    "jscommand = \"\"\"\n",
    "followers = document.querySelector(\".isgrP\");\n",
    "followers.scrollTo(0, followers.scrollHeight);\n",
    "var lenOfPage = followers.scrollHeight;\n",
    "return lenOfPage;\n",
    "\n",
    "\"\"\"\n",
    "\n",
    "\n",
    "lenOfPage = browser.execute_script(jscommand)\n",
    "match=False\n",
    "while(match==False):\n",
    "    lastCount = lenOfPage\n",
    "    time.sleep(2.3)\n",
    "    lenOfPage = browser.execute_script(jscommand)\n",
    "    if lastCount == lenOfPage:\n",
    "        match = True\n",
    "\n",
    "time.sleep(5)\n",
    "\n",
    "followingsList = []\n",
    "\n",
    "followings = browser.find_elements_by_css_selector(\".FPmhX.notranslate._0imsa\")\n",
    "\n",
    "for following in followings:\n",
    "    \n",
    "    followingsList.append(following.text)\n",
    "\n",
    "\n",
    "print(\"Length: \",len(followingsList))    \n",
    "\n",
    "with open(\"followings.txt\",\"w\",encoding = \"UTF-8\") as file:\n",
    "    for following in followingsList:\n",
    "        file.write(following + \"\\n\")\n",
    "\n",
    "\n",
    "#browser.close()\n"
   ]
  },
  {
   "cell_type": "code",
   "execution_count": null,
   "metadata": {},
   "outputs": [],
   "source": []
  }
 ],
 "metadata": {
  "kernelspec": {
   "display_name": "Python 3",
   "language": "python",
   "name": "python3"
  },
  "language_info": {
   "codemirror_mode": {
    "name": "ipython",
    "version": 3
   },
   "file_extension": ".py",
   "mimetype": "text/x-python",
   "name": "python",
   "nbconvert_exporter": "python",
   "pygments_lexer": "ipython3",
   "version": "3.8.5"
  }
 },
 "nbformat": 4,
 "nbformat_minor": 4
}
